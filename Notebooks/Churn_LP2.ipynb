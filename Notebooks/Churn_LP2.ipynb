{
 "cells": [
  {
   "cell_type": "markdown",
   "id": "70a3e691-84fd-402c-b8f7-16b84bf612a6",
   "metadata": {},
   "source": [
    "# Customer Churn Prediction LP 2"
   ]
  },
  {
   "cell_type": "markdown",
   "id": "d5b14a55",
   "metadata": {},
   "source": [
    "## __1. Business Understanding__"
   ]
  },
  {
   "cell_type": "markdown",
   "id": "039484ab",
   "metadata": {},
   "source": [
    "### 1.0 Project Description\n",
    "__Problem Statement:__\n",
    "\n",
    "This project focuses on Customer Churn Prediction with the goal of utilizing machine learning classification models to analyze customer behavior and forecast churn. The objective is to enhance profitability and customer retention for the company. By employing supervised learning techniques, the project aims to develop reliable models capable of accurately categorizing customers into churn or non-churn segments using diverse data attributes like transaction history, demographics, and interaction patterns. \n",
    "\n",
    "__Goal:__\n",
    "\n",
    "The overarching aim is to equip businesses with actionable insights to preemptively detect and address churn risks, thereby nurturing enduring customer relationships and optimizing revenue margins.\n",
    "\n",
    "\n",
    "\n",
    "\n",
    "\n",
    "\n"
   ]
  },
  {
   "cell_type": "markdown",
   "id": "7e650c5c",
   "metadata": {},
   "source": [
    "### 1.1 Scope of Work\n",
    "The scope of the project encompasses comprehensive phases including data collection and preprocessing, feature engineering, model development utilizing various classification algorithms, rigorous evaluation, establishment of monitoring mechanisms for real-time performance tracking, thorough documentation and knowledge transfer, rigorous quality assurance and testing procedures, and active stakeholder communication and collaboration throughout the project lifecycle. The project aims to deliver a robust Customer Churn Prediction System that enables businesses to proactively identify and mitigate churn risks, optimize customer retention strategies, and drive sustained profitability and growth."
   ]
  },
  {
   "cell_type": "markdown",
   "id": "ec65dad0",
   "metadata": {},
   "source": [
    "### __2. Data Understanding Analysis__\n"
   ]
  },
  {
   "cell_type": "markdown",
   "id": "2d27a7b3",
   "metadata": {},
   "source": [
    "### 2.0 Loading of Libraries"
   ]
  },
  {
   "cell_type": "code",
   "execution_count": 2,
   "id": "4feb321f",
   "metadata": {},
   "outputs": [
    {
     "name": "stdout",
     "output_type": "stream",
     "text": [
      "loading complete\n"
     ]
    }
   ],
   "source": [
    "# Data analysis and manipulation packages\n",
    "\n",
    "\n",
    "# For data manipulation\n",
    "import pandas as pd\n",
    "import numpy as np\n",
    "\n",
    "#For Visualization\n",
    "import matplotlib.pyplot as plt\n",
    "import seaborn as sns\n",
    "import plotly.express as px\n",
    "from matplotlib.dates import YearLocator\n",
    "from matplotlib.ticker import FuncFormatter\n",
    "#For statistical analysis\n",
    "import scipy.stats as stats\n",
    "import statsmodels.api as sm\n",
    "from statsmodels.formula.api import ols\n",
    "from scipy.stats import chi2_contingency\n",
    "\n",
    "# for database connection\n",
    "import pyodbc\n",
    "from dotenv import dotenv_values\n",
    "import os\n",
    "\n",
    "# Filter warnings\n",
    "import warnings\n",
    "warnings.filterwarnings(\"ignore\")\n",
    "print(\"loading complete\")\n",
    "\n"
   ]
  },
  {
   "cell_type": "markdown",
   "id": "c6b01b52",
   "metadata": {},
   "source": [
    "### __2.2 Loading and Inspection of Data__\n",
    "\n",
    "__2.2.1 Loading Data from SQL Server__"
   ]
  },
  {
   "cell_type": "code",
   "execution_count": 3,
   "id": "355359ad",
   "metadata": {},
   "outputs": [],
   "source": [
    "##Loading environment variables from .env files \n",
    "environment_variables = dotenv_values(\".env\")\n",
    "\n",
    "##Getting values of the credentials set in the .env file\n",
    "server = os.getenv(\"SERVER\")\n",
    "database = os.getenv(\"DATABASE\")\n",
    "username = os.getenv(\"USERNAME\")\n",
    "password = os.getenv(\"PASSWORD\")\n",
    "\n",
    "##Constructing the connection string\n",
    "connection_string = f\"DRIVER=SQL Server;SERVER={server};DATABASE={database};UID={username};PWD={password};MARS_Connection=yes;MinProtocolVersion=TLSv1.2;\""
   ]
  },
  {
   "cell_type": "code",
   "execution_count": 4,
   "id": "31bc1741",
   "metadata": {},
   "outputs": [],
   "source": [
    "connection = pyodbc.connect(connection_string)"
   ]
  },
  {
   "cell_type": "code",
   "execution_count": 5,
   "id": "0150a7a2",
   "metadata": {},
   "outputs": [],
   "source": [
    "##sql query to retrieve data from the table LP1_startup_2020\n",
    "query1=\"SELECT * FROM dbo.LP2_Telco_churn_first_3000\"\n",
    "\n",
    "##execute the sql query and load into pandas DataFrame\n",
    "data1 = pd.read_sql(query1,connection)\n"
   ]
  },
  {
   "cell_type": "markdown",
   "id": "5e5b9702",
   "metadata": {},
   "source": [
    " __2.2.2 Loading CSV Files__"
   ]
  },
  {
   "cell_type": "code",
   "execution_count": 6,
   "id": "f766b0c4",
   "metadata": {},
   "outputs": [],
   "source": [
    "data2 = pd.read_csv(r\"C:\\Users\\USER\\Documents\\Azubi Africa Class\\Classification Project LP2\\Classification-Project-LP2\\Data\\LP2_Telco-churn-second-2000.csv\")\n",
    "\n"
   ]
  },
  {
   "cell_type": "markdown",
   "id": "91edc4d0",
   "metadata": {},
   "source": [
    "### 2.3 Exploratory Data Analysis\n",
    "\n",
    "__2.3.1 Data1__"
   ]
  },
  {
   "cell_type": "code",
   "execution_count": 7,
   "id": "ea7d4a67",
   "metadata": {},
   "outputs": [
    {
     "data": {
      "text/html": [
       "<div>\n",
       "<style scoped>\n",
       "    .dataframe tbody tr th:only-of-type {\n",
       "        vertical-align: middle;\n",
       "    }\n",
       "\n",
       "    .dataframe tbody tr th {\n",
       "        vertical-align: top;\n",
       "    }\n",
       "\n",
       "    .dataframe thead th {\n",
       "        text-align: right;\n",
       "    }\n",
       "</style>\n",
       "<table border=\"1\" class=\"dataframe\">\n",
       "  <thead>\n",
       "    <tr style=\"text-align: right;\">\n",
       "      <th></th>\n",
       "      <th>customerID</th>\n",
       "      <th>gender</th>\n",
       "      <th>SeniorCitizen</th>\n",
       "      <th>Partner</th>\n",
       "      <th>Dependents</th>\n",
       "      <th>tenure</th>\n",
       "      <th>PhoneService</th>\n",
       "      <th>MultipleLines</th>\n",
       "      <th>InternetService</th>\n",
       "      <th>OnlineSecurity</th>\n",
       "      <th>...</th>\n",
       "      <th>DeviceProtection</th>\n",
       "      <th>TechSupport</th>\n",
       "      <th>StreamingTV</th>\n",
       "      <th>StreamingMovies</th>\n",
       "      <th>Contract</th>\n",
       "      <th>PaperlessBilling</th>\n",
       "      <th>PaymentMethod</th>\n",
       "      <th>MonthlyCharges</th>\n",
       "      <th>TotalCharges</th>\n",
       "      <th>Churn</th>\n",
       "    </tr>\n",
       "  </thead>\n",
       "  <tbody>\n",
       "    <tr>\n",
       "      <th>0</th>\n",
       "      <td>7590-VHVEG</td>\n",
       "      <td>Female</td>\n",
       "      <td>False</td>\n",
       "      <td>True</td>\n",
       "      <td>False</td>\n",
       "      <td>1</td>\n",
       "      <td>False</td>\n",
       "      <td>None</td>\n",
       "      <td>DSL</td>\n",
       "      <td>False</td>\n",
       "      <td>...</td>\n",
       "      <td>False</td>\n",
       "      <td>False</td>\n",
       "      <td>False</td>\n",
       "      <td>False</td>\n",
       "      <td>Month-to-month</td>\n",
       "      <td>True</td>\n",
       "      <td>Electronic check</td>\n",
       "      <td>29.850000</td>\n",
       "      <td>29.850000</td>\n",
       "      <td>False</td>\n",
       "    </tr>\n",
       "    <tr>\n",
       "      <th>1</th>\n",
       "      <td>5575-GNVDE</td>\n",
       "      <td>Male</td>\n",
       "      <td>False</td>\n",
       "      <td>False</td>\n",
       "      <td>False</td>\n",
       "      <td>34</td>\n",
       "      <td>True</td>\n",
       "      <td>False</td>\n",
       "      <td>DSL</td>\n",
       "      <td>True</td>\n",
       "      <td>...</td>\n",
       "      <td>True</td>\n",
       "      <td>False</td>\n",
       "      <td>False</td>\n",
       "      <td>False</td>\n",
       "      <td>One year</td>\n",
       "      <td>False</td>\n",
       "      <td>Mailed check</td>\n",
       "      <td>56.950001</td>\n",
       "      <td>1889.500000</td>\n",
       "      <td>False</td>\n",
       "    </tr>\n",
       "    <tr>\n",
       "      <th>2</th>\n",
       "      <td>3668-QPYBK</td>\n",
       "      <td>Male</td>\n",
       "      <td>False</td>\n",
       "      <td>False</td>\n",
       "      <td>False</td>\n",
       "      <td>2</td>\n",
       "      <td>True</td>\n",
       "      <td>False</td>\n",
       "      <td>DSL</td>\n",
       "      <td>True</td>\n",
       "      <td>...</td>\n",
       "      <td>False</td>\n",
       "      <td>False</td>\n",
       "      <td>False</td>\n",
       "      <td>False</td>\n",
       "      <td>Month-to-month</td>\n",
       "      <td>True</td>\n",
       "      <td>Mailed check</td>\n",
       "      <td>53.849998</td>\n",
       "      <td>108.150002</td>\n",
       "      <td>True</td>\n",
       "    </tr>\n",
       "  </tbody>\n",
       "</table>\n",
       "<p>3 rows × 21 columns</p>\n",
       "</div>"
      ],
      "text/plain": [
       "   customerID  gender  SeniorCitizen  Partner  Dependents  tenure  \\\n",
       "0  7590-VHVEG  Female          False     True       False       1   \n",
       "1  5575-GNVDE    Male          False    False       False      34   \n",
       "2  3668-QPYBK    Male          False    False       False       2   \n",
       "\n",
       "   PhoneService MultipleLines InternetService OnlineSecurity  ...  \\\n",
       "0         False          None             DSL          False  ...   \n",
       "1          True         False             DSL           True  ...   \n",
       "2          True         False             DSL           True  ...   \n",
       "\n",
       "  DeviceProtection TechSupport StreamingTV StreamingMovies        Contract  \\\n",
       "0            False       False       False           False  Month-to-month   \n",
       "1             True       False       False           False        One year   \n",
       "2            False       False       False           False  Month-to-month   \n",
       "\n",
       "  PaperlessBilling     PaymentMethod MonthlyCharges  TotalCharges  Churn  \n",
       "0             True  Electronic check      29.850000     29.850000  False  \n",
       "1            False      Mailed check      56.950001   1889.500000  False  \n",
       "2             True      Mailed check      53.849998    108.150002   True  \n",
       "\n",
       "[3 rows x 21 columns]"
      ]
     },
     "execution_count": 7,
     "metadata": {},
     "output_type": "execute_result"
    }
   ],
   "source": [
    "# Overview of data1\n",
    "data1.head(3)"
   ]
  },
  {
   "cell_type": "code",
   "execution_count": 8,
   "id": "639ec23e",
   "metadata": {},
   "outputs": [
    {
     "name": "stdout",
     "output_type": "stream",
     "text": [
      "(3000, 21)\n",
      "There are 3000 rows, and 21 columns\n"
     ]
    }
   ],
   "source": [
    "# Number of columns and rows in data1\n",
    "print (data1.shape)\n",
    "print(f\"There are {data1.shape[0]} rows, and {data1.shape[1]} columns\")"
   ]
  },
  {
   "cell_type": "code",
   "execution_count": 9,
   "id": "e77827a9",
   "metadata": {},
   "outputs": [
    {
     "name": "stdout",
     "output_type": "stream",
     "text": [
      "<class 'pandas.core.frame.DataFrame'>\n",
      "RangeIndex: 3000 entries, 0 to 2999\n",
      "Data columns (total 21 columns):\n",
      " #   Column            Non-Null Count  Dtype  \n",
      "---  ------            --------------  -----  \n",
      " 0   customerID        3000 non-null   object \n",
      " 1   gender            3000 non-null   object \n",
      " 2   SeniorCitizen     3000 non-null   bool   \n",
      " 3   Partner           3000 non-null   bool   \n",
      " 4   Dependents        3000 non-null   bool   \n",
      " 5   tenure            3000 non-null   int64  \n",
      " 6   PhoneService      3000 non-null   bool   \n",
      " 7   MultipleLines     2731 non-null   object \n",
      " 8   InternetService   3000 non-null   object \n",
      " 9   OnlineSecurity    2349 non-null   object \n",
      " 10  OnlineBackup      2349 non-null   object \n",
      " 11  DeviceProtection  2349 non-null   object \n",
      " 12  TechSupport       2349 non-null   object \n",
      " 13  StreamingTV       2349 non-null   object \n",
      " 14  StreamingMovies   2349 non-null   object \n",
      " 15  Contract          3000 non-null   object \n",
      " 16  PaperlessBilling  3000 non-null   bool   \n",
      " 17  PaymentMethod     3000 non-null   object \n",
      " 18  MonthlyCharges    3000 non-null   float64\n",
      " 19  TotalCharges      2995 non-null   float64\n",
      " 20  Churn             2999 non-null   object \n",
      "dtypes: bool(5), float64(2), int64(1), object(13)\n",
      "memory usage: 389.8+ KB\n"
     ]
    }
   ],
   "source": [
    "# check info for data1\n",
    "data1.info()"
   ]
  },
  {
   "cell_type": "code",
   "execution_count": 10,
   "id": "b1565218",
   "metadata": {},
   "outputs": [
    {
     "data": {
      "text/html": [
       "<div>\n",
       "<style scoped>\n",
       "    .dataframe tbody tr th:only-of-type {\n",
       "        vertical-align: middle;\n",
       "    }\n",
       "\n",
       "    .dataframe tbody tr th {\n",
       "        vertical-align: top;\n",
       "    }\n",
       "\n",
       "    .dataframe thead th {\n",
       "        text-align: right;\n",
       "    }\n",
       "</style>\n",
       "<table border=\"1\" class=\"dataframe\">\n",
       "  <thead>\n",
       "    <tr style=\"text-align: right;\">\n",
       "      <th></th>\n",
       "      <th>tenure</th>\n",
       "      <th>MonthlyCharges</th>\n",
       "      <th>TotalCharges</th>\n",
       "    </tr>\n",
       "  </thead>\n",
       "  <tbody>\n",
       "    <tr>\n",
       "      <th>count</th>\n",
       "      <td>3000.000000</td>\n",
       "      <td>3000.000000</td>\n",
       "      <td>2995.000000</td>\n",
       "    </tr>\n",
       "    <tr>\n",
       "      <th>mean</th>\n",
       "      <td>32.527333</td>\n",
       "      <td>65.347400</td>\n",
       "      <td>2301.278315</td>\n",
       "    </tr>\n",
       "    <tr>\n",
       "      <th>std</th>\n",
       "      <td>24.637768</td>\n",
       "      <td>30.137053</td>\n",
       "      <td>2274.987884</td>\n",
       "    </tr>\n",
       "    <tr>\n",
       "      <th>min</th>\n",
       "      <td>0.000000</td>\n",
       "      <td>18.400000</td>\n",
       "      <td>18.799999</td>\n",
       "    </tr>\n",
       "    <tr>\n",
       "      <th>25%</th>\n",
       "      <td>9.000000</td>\n",
       "      <td>35.787499</td>\n",
       "      <td>415.250000</td>\n",
       "    </tr>\n",
       "    <tr>\n",
       "      <th>50%</th>\n",
       "      <td>29.000000</td>\n",
       "      <td>70.900002</td>\n",
       "      <td>1404.650024</td>\n",
       "    </tr>\n",
       "    <tr>\n",
       "      <th>75%</th>\n",
       "      <td>56.000000</td>\n",
       "      <td>90.262501</td>\n",
       "      <td>3868.725098</td>\n",
       "    </tr>\n",
       "    <tr>\n",
       "      <th>max</th>\n",
       "      <td>72.000000</td>\n",
       "      <td>118.650002</td>\n",
       "      <td>8564.750000</td>\n",
       "    </tr>\n",
       "  </tbody>\n",
       "</table>\n",
       "</div>"
      ],
      "text/plain": [
       "            tenure  MonthlyCharges  TotalCharges\n",
       "count  3000.000000     3000.000000   2995.000000\n",
       "mean     32.527333       65.347400   2301.278315\n",
       "std      24.637768       30.137053   2274.987884\n",
       "min       0.000000       18.400000     18.799999\n",
       "25%       9.000000       35.787499    415.250000\n",
       "50%      29.000000       70.900002   1404.650024\n",
       "75%      56.000000       90.262501   3868.725098\n",
       "max      72.000000      118.650002   8564.750000"
      ]
     },
     "execution_count": 10,
     "metadata": {},
     "output_type": "execute_result"
    }
   ],
   "source": [
    "# Describe data1\n",
    "data1.describe()"
   ]
  },
  {
   "cell_type": "code",
   "execution_count": 11,
   "id": "d2bd9411",
   "metadata": {},
   "outputs": [
    {
     "name": "stdout",
     "output_type": "stream",
     "text": [
      "There are  0 duplicate(s)\n"
     ]
    }
   ],
   "source": [
    "# checking for duplicates\n",
    "print(\"There are \",data1.duplicated().sum(),\"duplicate(s)\")"
   ]
  },
  {
   "cell_type": "code",
   "execution_count": 12,
   "id": "bbbc3c9a",
   "metadata": {},
   "outputs": [
    {
     "data": {
      "text/plain": [
       "customerID            0\n",
       "gender                0\n",
       "SeniorCitizen         0\n",
       "Partner               0\n",
       "Dependents            0\n",
       "tenure                0\n",
       "PhoneService          0\n",
       "MultipleLines       269\n",
       "InternetService       0\n",
       "OnlineSecurity      651\n",
       "OnlineBackup        651\n",
       "DeviceProtection    651\n",
       "TechSupport         651\n",
       "StreamingTV         651\n",
       "StreamingMovies     651\n",
       "Contract              0\n",
       "PaperlessBilling      0\n",
       "PaymentMethod         0\n",
       "MonthlyCharges        0\n",
       "TotalCharges          5\n",
       "Churn                 1\n",
       "dtype: int64"
      ]
     },
     "execution_count": 12,
     "metadata": {},
     "output_type": "execute_result"
    }
   ],
   "source": [
    "# Checking for missing values\n",
    "data1.isnull().sum()"
   ]
  },
  {
   "cell_type": "markdown",
   "id": "98e9b786",
   "metadata": {},
   "source": [
    "__2.3.2 Data2__"
   ]
  },
  {
   "cell_type": "code",
   "execution_count": 13,
   "id": "5658672d",
   "metadata": {},
   "outputs": [
    {
     "data": {
      "text/html": [
       "<div>\n",
       "<style scoped>\n",
       "    .dataframe tbody tr th:only-of-type {\n",
       "        vertical-align: middle;\n",
       "    }\n",
       "\n",
       "    .dataframe tbody tr th {\n",
       "        vertical-align: top;\n",
       "    }\n",
       "\n",
       "    .dataframe thead th {\n",
       "        text-align: right;\n",
       "    }\n",
       "</style>\n",
       "<table border=\"1\" class=\"dataframe\">\n",
       "  <thead>\n",
       "    <tr style=\"text-align: right;\">\n",
       "      <th></th>\n",
       "      <th>customerID</th>\n",
       "      <th>gender</th>\n",
       "      <th>SeniorCitizen</th>\n",
       "      <th>Partner</th>\n",
       "      <th>Dependents</th>\n",
       "      <th>tenure</th>\n",
       "      <th>PhoneService</th>\n",
       "      <th>MultipleLines</th>\n",
       "      <th>InternetService</th>\n",
       "      <th>OnlineSecurity</th>\n",
       "      <th>...</th>\n",
       "      <th>DeviceProtection</th>\n",
       "      <th>TechSupport</th>\n",
       "      <th>StreamingTV</th>\n",
       "      <th>StreamingMovies</th>\n",
       "      <th>Contract</th>\n",
       "      <th>PaperlessBilling</th>\n",
       "      <th>PaymentMethod</th>\n",
       "      <th>MonthlyCharges</th>\n",
       "      <th>TotalCharges</th>\n",
       "      <th>Churn</th>\n",
       "    </tr>\n",
       "  </thead>\n",
       "  <tbody>\n",
       "    <tr>\n",
       "      <th>0</th>\n",
       "      <td>5600-PDUJF</td>\n",
       "      <td>Male</td>\n",
       "      <td>0</td>\n",
       "      <td>No</td>\n",
       "      <td>No</td>\n",
       "      <td>6</td>\n",
       "      <td>Yes</td>\n",
       "      <td>No</td>\n",
       "      <td>DSL</td>\n",
       "      <td>No</td>\n",
       "      <td>...</td>\n",
       "      <td>No</td>\n",
       "      <td>Yes</td>\n",
       "      <td>No</td>\n",
       "      <td>No</td>\n",
       "      <td>Month-to-month</td>\n",
       "      <td>Yes</td>\n",
       "      <td>Credit card (automatic)</td>\n",
       "      <td>49.50</td>\n",
       "      <td>312.7</td>\n",
       "      <td>No</td>\n",
       "    </tr>\n",
       "    <tr>\n",
       "      <th>1</th>\n",
       "      <td>8292-TYSPY</td>\n",
       "      <td>Male</td>\n",
       "      <td>0</td>\n",
       "      <td>No</td>\n",
       "      <td>No</td>\n",
       "      <td>19</td>\n",
       "      <td>Yes</td>\n",
       "      <td>No</td>\n",
       "      <td>DSL</td>\n",
       "      <td>No</td>\n",
       "      <td>...</td>\n",
       "      <td>Yes</td>\n",
       "      <td>Yes</td>\n",
       "      <td>No</td>\n",
       "      <td>No</td>\n",
       "      <td>Month-to-month</td>\n",
       "      <td>Yes</td>\n",
       "      <td>Credit card (automatic)</td>\n",
       "      <td>55.00</td>\n",
       "      <td>1046.5</td>\n",
       "      <td>Yes</td>\n",
       "    </tr>\n",
       "    <tr>\n",
       "      <th>2</th>\n",
       "      <td>0567-XRHCU</td>\n",
       "      <td>Female</td>\n",
       "      <td>0</td>\n",
       "      <td>Yes</td>\n",
       "      <td>Yes</td>\n",
       "      <td>69</td>\n",
       "      <td>No</td>\n",
       "      <td>No phone service</td>\n",
       "      <td>DSL</td>\n",
       "      <td>Yes</td>\n",
       "      <td>...</td>\n",
       "      <td>Yes</td>\n",
       "      <td>No</td>\n",
       "      <td>No</td>\n",
       "      <td>Yes</td>\n",
       "      <td>Two year</td>\n",
       "      <td>Yes</td>\n",
       "      <td>Credit card (automatic)</td>\n",
       "      <td>43.95</td>\n",
       "      <td>2960.1</td>\n",
       "      <td>No</td>\n",
       "    </tr>\n",
       "  </tbody>\n",
       "</table>\n",
       "<p>3 rows × 21 columns</p>\n",
       "</div>"
      ],
      "text/plain": [
       "   customerID  gender  SeniorCitizen Partner Dependents  tenure PhoneService  \\\n",
       "0  5600-PDUJF    Male              0      No         No       6          Yes   \n",
       "1  8292-TYSPY    Male              0      No         No      19          Yes   \n",
       "2  0567-XRHCU  Female              0     Yes        Yes      69           No   \n",
       "\n",
       "      MultipleLines InternetService OnlineSecurity  ... DeviceProtection  \\\n",
       "0                No             DSL             No  ...               No   \n",
       "1                No             DSL             No  ...              Yes   \n",
       "2  No phone service             DSL            Yes  ...              Yes   \n",
       "\n",
       "  TechSupport StreamingTV StreamingMovies        Contract PaperlessBilling  \\\n",
       "0         Yes          No              No  Month-to-month              Yes   \n",
       "1         Yes          No              No  Month-to-month              Yes   \n",
       "2          No          No             Yes        Two year              Yes   \n",
       "\n",
       "             PaymentMethod MonthlyCharges  TotalCharges Churn  \n",
       "0  Credit card (automatic)          49.50         312.7    No  \n",
       "1  Credit card (automatic)          55.00        1046.5   Yes  \n",
       "2  Credit card (automatic)          43.95        2960.1    No  \n",
       "\n",
       "[3 rows x 21 columns]"
      ]
     },
     "execution_count": 13,
     "metadata": {},
     "output_type": "execute_result"
    }
   ],
   "source": [
    "# Overview of data1\n",
    "data2.head(3)"
   ]
  },
  {
   "cell_type": "code",
   "execution_count": 14,
   "id": "ee581b7b",
   "metadata": {},
   "outputs": [
    {
     "name": "stdout",
     "output_type": "stream",
     "text": [
      "(2043, 21)\n",
      "There are 2043 rows, and 21 columns\n"
     ]
    }
   ],
   "source": [
    "# Number of columns and rows in data1\n",
    "print (data2.shape)\n",
    "print(f\"There are {data2.shape[0]} rows, and {data2.shape[1]} columns\")"
   ]
  },
  {
   "cell_type": "code",
   "execution_count": 15,
   "id": "cd63a3e7",
   "metadata": {},
   "outputs": [
    {
     "name": "stdout",
     "output_type": "stream",
     "text": [
      "<class 'pandas.core.frame.DataFrame'>\n",
      "RangeIndex: 2043 entries, 0 to 2042\n",
      "Data columns (total 21 columns):\n",
      " #   Column            Non-Null Count  Dtype  \n",
      "---  ------            --------------  -----  \n",
      " 0   customerID        2043 non-null   object \n",
      " 1   gender            2043 non-null   object \n",
      " 2   SeniorCitizen     2043 non-null   int64  \n",
      " 3   Partner           2043 non-null   object \n",
      " 4   Dependents        2043 non-null   object \n",
      " 5   tenure            2043 non-null   int64  \n",
      " 6   PhoneService      2043 non-null   object \n",
      " 7   MultipleLines     2043 non-null   object \n",
      " 8   InternetService   2043 non-null   object \n",
      " 9   OnlineSecurity    2043 non-null   object \n",
      " 10  OnlineBackup      2043 non-null   object \n",
      " 11  DeviceProtection  2043 non-null   object \n",
      " 12  TechSupport       2043 non-null   object \n",
      " 13  StreamingTV       2043 non-null   object \n",
      " 14  StreamingMovies   2043 non-null   object \n",
      " 15  Contract          2043 non-null   object \n",
      " 16  PaperlessBilling  2043 non-null   object \n",
      " 17  PaymentMethod     2043 non-null   object \n",
      " 18  MonthlyCharges    2043 non-null   float64\n",
      " 19  TotalCharges      2043 non-null   object \n",
      " 20  Churn             2043 non-null   object \n",
      "dtypes: float64(1), int64(2), object(18)\n",
      "memory usage: 335.3+ KB\n"
     ]
    }
   ],
   "source": [
    "# check info for data2\n",
    "data2.info()"
   ]
  },
  {
   "cell_type": "code",
   "execution_count": 16,
   "id": "d33a6421",
   "metadata": {},
   "outputs": [
    {
     "data": {
      "text/html": [
       "<div>\n",
       "<style scoped>\n",
       "    .dataframe tbody tr th:only-of-type {\n",
       "        vertical-align: middle;\n",
       "    }\n",
       "\n",
       "    .dataframe tbody tr th {\n",
       "        vertical-align: top;\n",
       "    }\n",
       "\n",
       "    .dataframe thead th {\n",
       "        text-align: right;\n",
       "    }\n",
       "</style>\n",
       "<table border=\"1\" class=\"dataframe\">\n",
       "  <thead>\n",
       "    <tr style=\"text-align: right;\">\n",
       "      <th></th>\n",
       "      <th>tenure</th>\n",
       "      <th>MonthlyCharges</th>\n",
       "      <th>TotalCharges</th>\n",
       "    </tr>\n",
       "  </thead>\n",
       "  <tbody>\n",
       "    <tr>\n",
       "      <th>count</th>\n",
       "      <td>3000.000000</td>\n",
       "      <td>3000.000000</td>\n",
       "      <td>2995.000000</td>\n",
       "    </tr>\n",
       "    <tr>\n",
       "      <th>mean</th>\n",
       "      <td>32.527333</td>\n",
       "      <td>65.347400</td>\n",
       "      <td>2301.278315</td>\n",
       "    </tr>\n",
       "    <tr>\n",
       "      <th>std</th>\n",
       "      <td>24.637768</td>\n",
       "      <td>30.137053</td>\n",
       "      <td>2274.987884</td>\n",
       "    </tr>\n",
       "    <tr>\n",
       "      <th>min</th>\n",
       "      <td>0.000000</td>\n",
       "      <td>18.400000</td>\n",
       "      <td>18.799999</td>\n",
       "    </tr>\n",
       "    <tr>\n",
       "      <th>25%</th>\n",
       "      <td>9.000000</td>\n",
       "      <td>35.787499</td>\n",
       "      <td>415.250000</td>\n",
       "    </tr>\n",
       "    <tr>\n",
       "      <th>50%</th>\n",
       "      <td>29.000000</td>\n",
       "      <td>70.900002</td>\n",
       "      <td>1404.650024</td>\n",
       "    </tr>\n",
       "    <tr>\n",
       "      <th>75%</th>\n",
       "      <td>56.000000</td>\n",
       "      <td>90.262501</td>\n",
       "      <td>3868.725098</td>\n",
       "    </tr>\n",
       "    <tr>\n",
       "      <th>max</th>\n",
       "      <td>72.000000</td>\n",
       "      <td>118.650002</td>\n",
       "      <td>8564.750000</td>\n",
       "    </tr>\n",
       "  </tbody>\n",
       "</table>\n",
       "</div>"
      ],
      "text/plain": [
       "            tenure  MonthlyCharges  TotalCharges\n",
       "count  3000.000000     3000.000000   2995.000000\n",
       "mean     32.527333       65.347400   2301.278315\n",
       "std      24.637768       30.137053   2274.987884\n",
       "min       0.000000       18.400000     18.799999\n",
       "25%       9.000000       35.787499    415.250000\n",
       "50%      29.000000       70.900002   1404.650024\n",
       "75%      56.000000       90.262501   3868.725098\n",
       "max      72.000000      118.650002   8564.750000"
      ]
     },
     "execution_count": 16,
     "metadata": {},
     "output_type": "execute_result"
    }
   ],
   "source": [
    "# Describe data1\n",
    "data1.describe()"
   ]
  },
  {
   "cell_type": "code",
   "execution_count": 17,
   "id": "bf72a136",
   "metadata": {},
   "outputs": [
    {
     "name": "stdout",
     "output_type": "stream",
     "text": [
      "There are  0 duplicate(s)\n"
     ]
    }
   ],
   "source": [
    "# checking for duplicates\n",
    "print(\"There are \",data2.duplicated().sum(),\"duplicate(s)\")"
   ]
  },
  {
   "cell_type": "code",
   "execution_count": 18,
   "id": "fe7a72ef",
   "metadata": {},
   "outputs": [
    {
     "data": {
      "text/plain": [
       "customerID            0\n",
       "gender                0\n",
       "SeniorCitizen         0\n",
       "Partner               0\n",
       "Dependents            0\n",
       "tenure                0\n",
       "PhoneService          0\n",
       "MultipleLines       269\n",
       "InternetService       0\n",
       "OnlineSecurity      651\n",
       "OnlineBackup        651\n",
       "DeviceProtection    651\n",
       "TechSupport         651\n",
       "StreamingTV         651\n",
       "StreamingMovies     651\n",
       "Contract              0\n",
       "PaperlessBilling      0\n",
       "PaymentMethod         0\n",
       "MonthlyCharges        0\n",
       "TotalCharges          5\n",
       "Churn                 1\n",
       "dtype: int64"
      ]
     },
     "execution_count": 18,
     "metadata": {},
     "output_type": "execute_result"
    }
   ],
   "source": [
    "# Checking for missing values\n",
    "data1.isnull().sum()"
   ]
  },
  {
   "cell_type": "markdown",
   "id": "d76e4894",
   "metadata": {},
   "source": [
    "### 2.4 Concatenation of Datasets"
   ]
  },
  {
   "cell_type": "code",
   "execution_count": 19,
   "id": "51992dfa",
   "metadata": {},
   "outputs": [],
   "source": [
    "def concat_dataframes(data1, data2):\n",
    "    \"\"\"\n",
    "    Concatenates two dataframes along the row axis.\n",
    "\n",
    "    Parameters:\n",
    "    data1 (pandas.DataFrame): The first dataframe to concatenate.\n",
    "    data2 (pandas.DataFrame): The second dataframe to concatenate.\n",
    "\n",
    "    Returns:\n",
    "    pandas.DataFrame: The concatenated dataframe.\n",
    "    \"\"\"\n",
    "    # Rename columns to make them consistent across dataframes\n",
    "    data1 = data1.rename(columns= {'customerID':'customerid', 'gender':'gender', 'SeniorCitizen':'seniorcitizen', 'Partner':'partner', 'Dependents':'dependents',\n",
    "       'tenure':'tenure', 'PhoneService':'phoneservice', 'MultipleLines':'multiplelines', 'InternetService':'internetservice',\n",
    "       'OnlineSecurity':'onlinesecurity', 'OnlineBackup':'onlinebackup', 'DeviceProtection':'deviceprotection', 'TechSupport':'techsupport',\n",
    "       'StreamingTV':'streamingtv', 'StreamingMovies':'streamingmovies', 'Contract':'contract', 'PaperlessBilling':'paperlessbilling',\n",
    "       'PaymentMethod':'paymentmethod', 'MonthlyCharges':'monthlycharges', 'TotalCharges':'totalcharges', 'Churn':'churn'})\n",
    "    \n",
    "    data2 = data2.rename(columns={'customerID':'customerid', 'gender':'gender', 'SeniorCitizen':'seniorcitizen', 'Partner':'partner', 'Dependents':'dependents',\n",
    "       'tenure':'tenure', 'PhoneService':'phoneservice', 'MultipleLines':'multiplelines', 'InternetService':'internetservice',\n",
    "       'OnlineSecurity':'onlinesecurity', 'OnlineBackup':'onlinebackup', 'DeviceProtection':'deviceprotection', 'TechSupport':'techsupport',\n",
    "       'StreamingTV':'streamingtv', 'StreamingMovies':'streamingmovies', 'Contract':'contract', 'PaperlessBilling':'paperlessbilling',\n",
    "       'PaymentMethod':'paymentmethod', 'MonthlyCharges':'monthlycharges', 'TotalCharges':'totalcharges', 'Churn':'churn'})\n",
    "    \n",
    "    # Concatenate dataframes along the row axis\n",
    "    return pd.concat([data1, data2]).reset_index(drop=True)\n",
    "    return result"
   ]
  },
  {
   "cell_type": "code",
   "execution_count": 20,
   "id": "550aaf80",
   "metadata": {},
   "outputs": [
    {
     "data": {
      "text/html": [
       "<div>\n",
       "<style scoped>\n",
       "    .dataframe tbody tr th:only-of-type {\n",
       "        vertical-align: middle;\n",
       "    }\n",
       "\n",
       "    .dataframe tbody tr th {\n",
       "        vertical-align: top;\n",
       "    }\n",
       "\n",
       "    .dataframe thead th {\n",
       "        text-align: right;\n",
       "    }\n",
       "</style>\n",
       "<table border=\"1\" class=\"dataframe\">\n",
       "  <thead>\n",
       "    <tr style=\"text-align: right;\">\n",
       "      <th></th>\n",
       "      <th>customerid</th>\n",
       "      <th>gender</th>\n",
       "      <th>seniorcitizen</th>\n",
       "      <th>partner</th>\n",
       "      <th>dependents</th>\n",
       "      <th>tenure</th>\n",
       "      <th>phoneservice</th>\n",
       "      <th>multiplelines</th>\n",
       "      <th>internetservice</th>\n",
       "      <th>onlinesecurity</th>\n",
       "      <th>...</th>\n",
       "      <th>deviceprotection</th>\n",
       "      <th>techsupport</th>\n",
       "      <th>streamingtv</th>\n",
       "      <th>streamingmovies</th>\n",
       "      <th>contract</th>\n",
       "      <th>paperlessbilling</th>\n",
       "      <th>paymentmethod</th>\n",
       "      <th>monthlycharges</th>\n",
       "      <th>totalcharges</th>\n",
       "      <th>churn</th>\n",
       "    </tr>\n",
       "  </thead>\n",
       "  <tbody>\n",
       "    <tr>\n",
       "      <th>0</th>\n",
       "      <td>7590-VHVEG</td>\n",
       "      <td>Female</td>\n",
       "      <td>0</td>\n",
       "      <td>True</td>\n",
       "      <td>False</td>\n",
       "      <td>1</td>\n",
       "      <td>False</td>\n",
       "      <td>None</td>\n",
       "      <td>DSL</td>\n",
       "      <td>False</td>\n",
       "      <td>...</td>\n",
       "      <td>False</td>\n",
       "      <td>False</td>\n",
       "      <td>False</td>\n",
       "      <td>False</td>\n",
       "      <td>Month-to-month</td>\n",
       "      <td>True</td>\n",
       "      <td>Electronic check</td>\n",
       "      <td>29.850000</td>\n",
       "      <td>29.85</td>\n",
       "      <td>False</td>\n",
       "    </tr>\n",
       "    <tr>\n",
       "      <th>1</th>\n",
       "      <td>5575-GNVDE</td>\n",
       "      <td>Male</td>\n",
       "      <td>0</td>\n",
       "      <td>False</td>\n",
       "      <td>False</td>\n",
       "      <td>34</td>\n",
       "      <td>True</td>\n",
       "      <td>False</td>\n",
       "      <td>DSL</td>\n",
       "      <td>True</td>\n",
       "      <td>...</td>\n",
       "      <td>True</td>\n",
       "      <td>False</td>\n",
       "      <td>False</td>\n",
       "      <td>False</td>\n",
       "      <td>One year</td>\n",
       "      <td>False</td>\n",
       "      <td>Mailed check</td>\n",
       "      <td>56.950001</td>\n",
       "      <td>1889.5</td>\n",
       "      <td>False</td>\n",
       "    </tr>\n",
       "    <tr>\n",
       "      <th>2</th>\n",
       "      <td>3668-QPYBK</td>\n",
       "      <td>Male</td>\n",
       "      <td>0</td>\n",
       "      <td>False</td>\n",
       "      <td>False</td>\n",
       "      <td>2</td>\n",
       "      <td>True</td>\n",
       "      <td>False</td>\n",
       "      <td>DSL</td>\n",
       "      <td>True</td>\n",
       "      <td>...</td>\n",
       "      <td>False</td>\n",
       "      <td>False</td>\n",
       "      <td>False</td>\n",
       "      <td>False</td>\n",
       "      <td>Month-to-month</td>\n",
       "      <td>True</td>\n",
       "      <td>Mailed check</td>\n",
       "      <td>53.849998</td>\n",
       "      <td>108.150002</td>\n",
       "      <td>True</td>\n",
       "    </tr>\n",
       "    <tr>\n",
       "      <th>3</th>\n",
       "      <td>7795-CFOCW</td>\n",
       "      <td>Male</td>\n",
       "      <td>0</td>\n",
       "      <td>False</td>\n",
       "      <td>False</td>\n",
       "      <td>45</td>\n",
       "      <td>False</td>\n",
       "      <td>None</td>\n",
       "      <td>DSL</td>\n",
       "      <td>True</td>\n",
       "      <td>...</td>\n",
       "      <td>True</td>\n",
       "      <td>True</td>\n",
       "      <td>False</td>\n",
       "      <td>False</td>\n",
       "      <td>One year</td>\n",
       "      <td>False</td>\n",
       "      <td>Bank transfer (automatic)</td>\n",
       "      <td>42.299999</td>\n",
       "      <td>1840.75</td>\n",
       "      <td>False</td>\n",
       "    </tr>\n",
       "    <tr>\n",
       "      <th>4</th>\n",
       "      <td>9237-HQITU</td>\n",
       "      <td>Female</td>\n",
       "      <td>0</td>\n",
       "      <td>False</td>\n",
       "      <td>False</td>\n",
       "      <td>2</td>\n",
       "      <td>True</td>\n",
       "      <td>False</td>\n",
       "      <td>Fiber optic</td>\n",
       "      <td>False</td>\n",
       "      <td>...</td>\n",
       "      <td>False</td>\n",
       "      <td>False</td>\n",
       "      <td>False</td>\n",
       "      <td>False</td>\n",
       "      <td>Month-to-month</td>\n",
       "      <td>True</td>\n",
       "      <td>Electronic check</td>\n",
       "      <td>70.699997</td>\n",
       "      <td>151.649994</td>\n",
       "      <td>True</td>\n",
       "    </tr>\n",
       "  </tbody>\n",
       "</table>\n",
       "<p>5 rows × 21 columns</p>\n",
       "</div>"
      ],
      "text/plain": [
       "   customerid  gender  seniorcitizen partner dependents  tenure phoneservice  \\\n",
       "0  7590-VHVEG  Female              0    True      False       1        False   \n",
       "1  5575-GNVDE    Male              0   False      False      34         True   \n",
       "2  3668-QPYBK    Male              0   False      False       2         True   \n",
       "3  7795-CFOCW    Male              0   False      False      45        False   \n",
       "4  9237-HQITU  Female              0   False      False       2         True   \n",
       "\n",
       "  multiplelines internetservice onlinesecurity  ... deviceprotection  \\\n",
       "0          None             DSL          False  ...            False   \n",
       "1         False             DSL           True  ...             True   \n",
       "2         False             DSL           True  ...            False   \n",
       "3          None             DSL           True  ...             True   \n",
       "4         False     Fiber optic          False  ...            False   \n",
       "\n",
       "  techsupport streamingtv streamingmovies        contract paperlessbilling  \\\n",
       "0       False       False           False  Month-to-month             True   \n",
       "1       False       False           False        One year            False   \n",
       "2       False       False           False  Month-to-month             True   \n",
       "3        True       False           False        One year            False   \n",
       "4       False       False           False  Month-to-month             True   \n",
       "\n",
       "               paymentmethod monthlycharges  totalcharges  churn  \n",
       "0           Electronic check      29.850000         29.85  False  \n",
       "1               Mailed check      56.950001        1889.5  False  \n",
       "2               Mailed check      53.849998    108.150002   True  \n",
       "3  Bank transfer (automatic)      42.299999       1840.75  False  \n",
       "4           Electronic check      70.699997    151.649994   True  \n",
       "\n",
       "[5 rows x 21 columns]"
      ]
     },
     "execution_count": 20,
     "metadata": {},
     "output_type": "execute_result"
    }
   ],
   "source": [
    "## combined dataset (df)\n",
    "df = concat_dataframes(data1,data2)\n",
    "df.head()"
   ]
  },
  {
   "cell_type": "markdown",
   "id": "e499b544",
   "metadata": {},
   "source": [
    "### 2.4 Exploratory Data Analysis ###"
   ]
  },
  {
   "cell_type": "code",
   "execution_count": 21,
   "id": "da76b118",
   "metadata": {},
   "outputs": [
    {
     "name": "stdout",
     "output_type": "stream",
     "text": [
      "<class 'pandas.core.frame.DataFrame'>\n",
      "RangeIndex: 5043 entries, 0 to 5042\n",
      "Data columns (total 21 columns):\n",
      " #   Column            Non-Null Count  Dtype  \n",
      "---  ------            --------------  -----  \n",
      " 0   customerid        5043 non-null   object \n",
      " 1   gender            5043 non-null   object \n",
      " 2   seniorcitizen     5043 non-null   int64  \n",
      " 3   partner           5043 non-null   object \n",
      " 4   dependents        5043 non-null   object \n",
      " 5   tenure            5043 non-null   int64  \n",
      " 6   phoneservice      5043 non-null   object \n",
      " 7   multiplelines     4774 non-null   object \n",
      " 8   internetservice   5043 non-null   object \n",
      " 9   onlinesecurity    4392 non-null   object \n",
      " 10  onlinebackup      4392 non-null   object \n",
      " 11  deviceprotection  4392 non-null   object \n",
      " 12  techsupport       4392 non-null   object \n",
      " 13  streamingtv       4392 non-null   object \n",
      " 14  streamingmovies   4392 non-null   object \n",
      " 15  contract          5043 non-null   object \n",
      " 16  paperlessbilling  5043 non-null   object \n",
      " 17  paymentmethod     5043 non-null   object \n",
      " 18  monthlycharges    5043 non-null   float64\n",
      " 19  totalcharges      5038 non-null   object \n",
      " 20  churn             5042 non-null   object \n",
      "dtypes: float64(1), int64(2), object(18)\n",
      "memory usage: 827.5+ KB\n"
     ]
    }
   ],
   "source": [
    "df.info()"
   ]
  },
  {
   "cell_type": "code",
   "execution_count": 22,
   "id": "09331dd7",
   "metadata": {},
   "outputs": [
    {
     "data": {
      "text/plain": [
       "Index(['customerid', 'gender', 'seniorcitizen', 'partner', 'dependents',\n",
       "       'tenure', 'phoneservice', 'multiplelines', 'internetservice',\n",
       "       'onlinesecurity', 'onlinebackup', 'deviceprotection', 'techsupport',\n",
       "       'streamingtv', 'streamingmovies', 'contract', 'paperlessbilling',\n",
       "       'paymentmethod', 'monthlycharges', 'totalcharges', 'churn'],\n",
       "      dtype='object')"
      ]
     },
     "execution_count": 22,
     "metadata": {},
     "output_type": "execute_result"
    }
   ],
   "source": [
    "# check columns in the df\n",
    "df.columns"
   ]
  },
  {
   "cell_type": "code",
   "execution_count": 34,
   "id": "658bd401",
   "metadata": {},
   "outputs": [
    {
     "data": {
      "text/html": [
       "<div>\n",
       "<style scoped>\n",
       "    .dataframe tbody tr th:only-of-type {\n",
       "        vertical-align: middle;\n",
       "    }\n",
       "\n",
       "    .dataframe tbody tr th {\n",
       "        vertical-align: top;\n",
       "    }\n",
       "\n",
       "    .dataframe thead th {\n",
       "        text-align: right;\n",
       "    }\n",
       "</style>\n",
       "<table border=\"1\" class=\"dataframe\">\n",
       "  <thead>\n",
       "    <tr style=\"text-align: right;\">\n",
       "      <th></th>\n",
       "      <th>count</th>\n",
       "      <th>mean</th>\n",
       "      <th>std</th>\n",
       "      <th>min</th>\n",
       "      <th>25%</th>\n",
       "      <th>50%</th>\n",
       "      <th>75%</th>\n",
       "      <th>max</th>\n",
       "    </tr>\n",
       "  </thead>\n",
       "  <tbody>\n",
       "    <tr>\n",
       "      <th>seniorcitizen</th>\n",
       "      <td>5043.0</td>\n",
       "      <td>0.162403</td>\n",
       "      <td>0.368857</td>\n",
       "      <td>0.000000</td>\n",
       "      <td>0.000000</td>\n",
       "      <td>0.000000</td>\n",
       "      <td>0.000000</td>\n",
       "      <td>1.000000</td>\n",
       "    </tr>\n",
       "    <tr>\n",
       "      <th>tenure</th>\n",
       "      <td>5043.0</td>\n",
       "      <td>32.576641</td>\n",
       "      <td>24.529807</td>\n",
       "      <td>0.000000</td>\n",
       "      <td>9.000000</td>\n",
       "      <td>29.000000</td>\n",
       "      <td>56.000000</td>\n",
       "      <td>72.000000</td>\n",
       "    </tr>\n",
       "    <tr>\n",
       "      <th>monthlycharges</th>\n",
       "      <td>5043.0</td>\n",
       "      <td>65.090214</td>\n",
       "      <td>30.068133</td>\n",
       "      <td>18.400000</td>\n",
       "      <td>35.775000</td>\n",
       "      <td>70.550003</td>\n",
       "      <td>90.050003</td>\n",
       "      <td>118.650002</td>\n",
       "    </tr>\n",
       "    <tr>\n",
       "      <th>totalcharges</th>\n",
       "      <td>5035.0</td>\n",
       "      <td>2302.062861</td>\n",
       "      <td>2269.483576</td>\n",
       "      <td>18.799999</td>\n",
       "      <td>417.675003</td>\n",
       "      <td>1401.150024</td>\n",
       "      <td>3862.000000</td>\n",
       "      <td>8670.100000</td>\n",
       "    </tr>\n",
       "  </tbody>\n",
       "</table>\n",
       "</div>"
      ],
      "text/plain": [
       "                 count         mean          std        min         25%  \\\n",
       "seniorcitizen   5043.0     0.162403     0.368857   0.000000    0.000000   \n",
       "tenure          5043.0    32.576641    24.529807   0.000000    9.000000   \n",
       "monthlycharges  5043.0    65.090214    30.068133  18.400000   35.775000   \n",
       "totalcharges    5035.0  2302.062861  2269.483576  18.799999  417.675003   \n",
       "\n",
       "                        50%          75%          max  \n",
       "seniorcitizen      0.000000     0.000000     1.000000  \n",
       "tenure            29.000000    56.000000    72.000000  \n",
       "monthlycharges    70.550003    90.050003   118.650002  \n",
       "totalcharges    1401.150024  3862.000000  8670.100000  "
      ]
     },
     "execution_count": 34,
     "metadata": {},
     "output_type": "execute_result"
    }
   ],
   "source": [
    "# check descriptive statistics\n",
    "df.describe().T"
   ]
  },
  {
   "cell_type": "code",
   "execution_count": 25,
   "id": "20c567bd",
   "metadata": {},
   "outputs": [
    {
     "name": "stdout",
     "output_type": "stream",
     "text": [
      "<class 'pandas.core.frame.DataFrame'>\n",
      "RangeIndex: 5043 entries, 0 to 5042\n",
      "Data columns (total 21 columns):\n",
      " #   Column            Non-Null Count  Dtype  \n",
      "---  ------            --------------  -----  \n",
      " 0   customerid        5043 non-null   object \n",
      " 1   gender            5043 non-null   object \n",
      " 2   seniorcitizen     5043 non-null   int64  \n",
      " 3   partner           5043 non-null   object \n",
      " 4   dependents        5043 non-null   object \n",
      " 5   tenure            5043 non-null   int64  \n",
      " 6   phoneservice      5043 non-null   object \n",
      " 7   multiplelines     4774 non-null   object \n",
      " 8   internetservice   5043 non-null   object \n",
      " 9   onlinesecurity    4392 non-null   object \n",
      " 10  onlinebackup      4392 non-null   object \n",
      " 11  deviceprotection  4392 non-null   object \n",
      " 12  techsupport       4392 non-null   object \n",
      " 13  streamingtv       4392 non-null   object \n",
      " 14  streamingmovies   4392 non-null   object \n",
      " 15  contract          5043 non-null   object \n",
      " 16  paperlessbilling  5043 non-null   object \n",
      " 17  paymentmethod     5043 non-null   object \n",
      " 18  monthlycharges    5043 non-null   float64\n",
      " 19  totalcharges      5038 non-null   object \n",
      " 20  churn             5042 non-null   object \n",
      "dtypes: float64(1), int64(2), object(18)\n",
      "memory usage: 827.5+ KB\n"
     ]
    }
   ],
   "source": [
    "df.info()"
   ]
  },
  {
   "cell_type": "code",
   "execution_count": 26,
   "id": "6f2c9e3b",
   "metadata": {},
   "outputs": [
    {
     "data": {
      "text/plain": [
       "customerid            0\n",
       "gender                0\n",
       "seniorcitizen         0\n",
       "partner               0\n",
       "dependents            0\n",
       "tenure                0\n",
       "phoneservice          0\n",
       "multiplelines       269\n",
       "internetservice       0\n",
       "onlinesecurity      651\n",
       "onlinebackup        651\n",
       "deviceprotection    651\n",
       "techsupport         651\n",
       "streamingtv         651\n",
       "streamingmovies     651\n",
       "contract              0\n",
       "paperlessbilling      0\n",
       "paymentmethod         0\n",
       "monthlycharges        0\n",
       "totalcharges          5\n",
       "churn                 1\n",
       "dtype: int64"
      ]
     },
     "execution_count": 26,
     "metadata": {},
     "output_type": "execute_result"
    }
   ],
   "source": [
    "# Checking for missing values\n",
    "df.isnull().sum()"
   ]
  },
  {
   "cell_type": "code",
   "execution_count": 27,
   "id": "5c1974ef",
   "metadata": {},
   "outputs": [
    {
     "name": "stdout",
     "output_type": "stream",
     "text": [
      "There are  0 duplicate(s)\n"
     ]
    }
   ],
   "source": [
    "# checking for duplicates\n",
    "print(\"There are \",df.duplicated().sum(),\"duplicate(s)\")"
   ]
  },
  {
   "cell_type": "markdown",
   "id": "c1c9b74a",
   "metadata": {},
   "source": [
    "__2.4.1 Issues Observed in the Data__"
   ]
  },
  {
   "cell_type": "markdown",
   "id": "c9637dbc",
   "metadata": {},
   "source": [
    "1. Total charge column needs to be converted from string to numeric. \n",
    "2. Totalcharge and churn columns have 5 and 1 missing values respectively.  \n",
    "3. The features are not on the same scale and this is more profound on totalcharge feature.\n",
    "4. The dataset has a sharp positive skewness.  "
   ]
  },
  {
   "cell_type": "markdown",
   "id": "a968b65f",
   "metadata": {},
   "source": [
    "__2.5 Data Cleaning__"
   ]
  },
  {
   "cell_type": "code",
   "execution_count": 31,
   "id": "2ed204e3",
   "metadata": {},
   "outputs": [
    {
     "name": "stdout",
     "output_type": "stream",
     "text": [
      "<class 'pandas.core.frame.DataFrame'>\n",
      "RangeIndex: 5043 entries, 0 to 5042\n",
      "Data columns (total 21 columns):\n",
      " #   Column            Non-Null Count  Dtype  \n",
      "---  ------            --------------  -----  \n",
      " 0   customerid        5043 non-null   object \n",
      " 1   gender            5043 non-null   object \n",
      " 2   seniorcitizen     5043 non-null   int64  \n",
      " 3   partner           5043 non-null   object \n",
      " 4   dependents        5043 non-null   object \n",
      " 5   tenure            5043 non-null   int64  \n",
      " 6   phoneservice      5043 non-null   object \n",
      " 7   multiplelines     4774 non-null   object \n",
      " 8   internetservice   5043 non-null   object \n",
      " 9   onlinesecurity    4392 non-null   object \n",
      " 10  onlinebackup      4392 non-null   object \n",
      " 11  deviceprotection  4392 non-null   object \n",
      " 12  techsupport       4392 non-null   object \n",
      " 13  streamingtv       4392 non-null   object \n",
      " 14  streamingmovies   4392 non-null   object \n",
      " 15  contract          5043 non-null   object \n",
      " 16  paperlessbilling  5043 non-null   object \n",
      " 17  paymentmethod     5043 non-null   object \n",
      " 18  monthlycharges    5043 non-null   float64\n",
      " 19  totalcharges      5035 non-null   float64\n",
      " 20  churn             5042 non-null   object \n",
      "dtypes: float64(2), int64(2), object(17)\n",
      "memory usage: 827.5+ KB\n"
     ]
    }
   ],
   "source": [
    "# convert totalcharge column to numeric \n",
    "df.totalcharges = pd.to_numeric(df.totalcharges, errors='coerce')\n",
    "\n",
    "df.info()"
   ]
  },
  {
   "cell_type": "markdown",
   "id": "ff0eb4ce",
   "metadata": {},
   "source": [
    "__2.6 Univariate Analysis__"
   ]
  },
  {
   "cell_type": "code",
   "execution_count": 43,
   "id": "e170340c",
   "metadata": {},
   "outputs": [
    {
     "data": {
      "image/png": "[encoded data removed]",
      "text/plain": [
       "<Figure size 1600x1000 with 4 Axes>"
      ]
     },
     "metadata": {},
     "output_type": "display_data"
    }
   ],
   "source": [
    "df.hist(figsize=(16,10), grid=False)\n",
    "plt.title(\"Distribution of Features\")\n",
    "plt.show()"
   ]
  },
  {
   "cell_type": "code",
   "execution_count": 51,
   "id": "4de857ec",
   "metadata": {},
   "outputs": [
    {
     "data": {
      "image/png": "[encoded data removed]",
      "text/plain": [
       "<Figure size 1800x800 with 1 Axes>"
      ]
     },
     "metadata": {},
     "output_type": "display_data"
    }
   ],
   "source": [
    "# Density Distribution\n",
    "plt.figure(figsize=(18,8))\n",
    "sns.kdeplot(data=df.drop(['totalcharges','monthlycharges'], axis=1))\n",
    "plt.show()"
   ]
  }
 ],
 "metadata": {
  "kernelspec": {
   "display_name": "Python 3 (ipykernel)",
   "language": "python",
   "name": "python3"
  },
  "language_info": {
   "codemirror_mode": {
    "name": "ipython",
    "version": 3
   },
   "file_extension": ".py",
   "mimetype": "text/x-python",
   "name": "python",
   "nbconvert_exporter": "python",
   "pygments_lexer": "ipython3",
   "version": "3.10.9"
  }
 },
 "nbformat": 4,
 "nbformat_minor": 5
}
